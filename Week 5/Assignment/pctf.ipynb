{
 "cells": [
  {
   "cell_type": "code",
   "execution_count": 1,
   "metadata": {},
   "outputs": [],
   "source": [
    "import matplotlib.pyplot as plt\n",
    "import numpy as np\n",
    "\n",
    "from ipywidgets import interact, interactive, fixed, interact_manual\n",
    "import ipywidgets as widgets\n",
    "from IPython.display import HTML"
   ]
  },
  {
   "cell_type": "code",
   "execution_count": 2,
   "metadata": {},
   "outputs": [],
   "source": [
    "# universal constants\n",
    "h=6.626*10**(-34) #plank's constant J.s\n",
    "me=9.109*10**(-31) #electron's mass kg\n",
    "mecsquared=511 # electron's rest mass in keV\n",
    "electron=1.602*10**(-19)# electron's charge"
   ]
  },
  {
   "cell_type": "code",
   "execution_count": 3,
   "metadata": {},
   "outputs": [],
   "source": [
    "#electron's wavelength in m for an energy in keV\n",
    "def lamb(Energy):\n",
    "    l=h/np.sqrt(2*me*Energy*1000*electron)*(1+Energy/(2*mecsquared))**(-0.5)\n",
    "    return l"
   ]
  },
  {
   "cell_type": "code",
   "execution_count": 4,
   "metadata": {},
   "outputs": [
    {
     "data": {
      "text/plain": [
       "2.5080989936058438e-12"
      ]
     },
     "execution_count": 4,
     "metadata": {},
     "output_type": "execute_result"
    }
   ],
   "source": [
    "#check (should be 2.5 pm)\n",
    "lamb(200)"
   ]
  },
  {
   "cell_type": "code",
   "execution_count": 5,
   "metadata": {},
   "outputs": [],
   "source": [
    "# phase contrast transfer function \n",
    "# u reciprocal length\n",
    "# deltaf: defocus\n",
    "# cs:spherical aberration\n",
    "# lamb: wavelength\n",
    "def pctf(u,deltaf,cs,lamb):\n",
    "    chi=np.pi*deltaf*lamb*u**2+0.5*np.pi*cs*lamb**3*u**4\n",
    "    tf=np.sin(chi)\n",
    "    return tf"
   ]
  },
  {
   "cell_type": "code",
   "execution_count": 6,
   "metadata": {},
   "outputs": [],
   "source": [
    "# phase contrast transfer function squared (to compare w diffractogram)\n",
    "\n",
    "def pctfsq(u,deltaf,cs,lamb):\n",
    "    chi=np.pi*deltaf*lamb*u**2+0.5*np.pi*cs*lamb**3*u**4\n",
    "    tf=(np.sin(chi))**2\n",
    "    return tf"
   ]
  },
  {
   "cell_type": "code",
   "execution_count": 7,
   "metadata": {},
   "outputs": [],
   "source": [
    "# 2-d PCTF. Only interesting whn astigmatism is present\n",
    "def pctf2d(ux,uy,deltaf,astig,cs,lamb):\n",
    "    chi=np.pi*(deltaf+astig/2)*lamb*(ux**2)+np.pi*(deltaf-astig/2)*lamb*(uy**2)+0.5*np.pi*cs*lamb**3*(ux**2+uy**2)**2\n",
    "    tf=np.sin(chi)\n",
    "    return tf"
   ]
  },
  {
   "cell_type": "markdown",
   "metadata": {},
   "source": [
    "## Temporal envelope\n",
    "$$E(u)=\\exp({-\\frac{(\\pi\\Delta\\lambda u^2)^2}{16 \\ln(2)}})$$\n",
    "with\n",
    "$$\\Delta = C_c\\frac{\\Delta E}{E_0}$$\n",
    "$\\Delta E$ energy spread\n",
    "\n",
    "$E_0$, incident energy"
   ]
  },
  {
   "cell_type": "code",
   "execution_count": 8,
   "metadata": {},
   "outputs": [],
   "source": [
    "# temporal envelope, as defined in Spence book\n",
    "def temporal_envelope(Energy,u,cc,Espread):\n",
    "    lam=lamb(Energy)\n",
    "    delta=cc*Espread/(1000*Energy)\n",
    "    te=np.exp(-(np.pi*delta*lam*u**2)**2/(16*np.log(2)))\n",
    "    #te=np.exp(-(np.pi*delta*lam*u**2)**2/(4))\n",
    "    return te"
   ]
  },
  {
   "cell_type": "code",
   "execution_count": 9,
   "metadata": {},
   "outputs": [],
   "source": [
    "def scherzer(cs,Energy):\n",
    "    lam=lamb(Energy)\n",
    "    sch=-(4*cs*10**(-6)*lam/3)**(0.5)\n",
    "    return sch"
   ]
  },
  {
   "cell_type": "code",
   "execution_count": 10,
   "metadata": {},
   "outputs": [
    {
     "data": {
      "text/plain": [
       "-6.334791543349591e-08"
      ]
     },
     "execution_count": 10,
     "metadata": {},
     "output_type": "execute_result"
    }
   ],
   "source": [
    "# Check. Should be -63 nm\n",
    "scherzer(1200,200)"
   ]
  },
  {
   "cell_type": "code",
   "execution_count": 11,
   "metadata": {
    "scrolled": true
   },
   "outputs": [
    {
     "data": {
      "application/vnd.jupyter.widget-view+json": {
       "model_id": "6b89830e7c904e568e6055877ccc3193",
       "version_major": 2,
       "version_minor": 0
      },
      "text/plain": [
       "interactive(children=(IntSlider(value=-67, description='Defocus in nm', min=-200), IntSlider(value=1200, descr…"
      ]
     },
     "metadata": {},
     "output_type": "display_data"
    }
   ],
   "source": [
    "# Interactive plot of the PCTF\n",
    "def pctfplot(deltaf,cs, Energy,cc,Espread):\n",
    "    lam=lamb(Energy)\n",
    "    u = np.linspace(0,10,2000)\n",
    "    te=temporal_envelope(Energy,10**9*u,cc*10**(-3),Espread)\n",
    "    plt.plot(u,te*pctf(10**9*u,deltaf*10**(-9),cs*10**(-6),lam))\n",
    "#    plt.axhline(0)\n",
    "    plt.grid(True)\n",
    "    plt.plot(u,te)\n",
    "    plt.show()\n",
    "\n",
    "interact(pctfplot, deltaf=widgets.IntSlider(min=-200,max=100,step=1,value=-67,description='Defocus in nm'),\n",
    "         cs=widgets.IntSlider(min=-100,max=1500,step=5,value=1200,description='Cs in microns'),\n",
    "         Energy=widgets.IntSlider(min=20,max=300,step=10,value=200,description='Energy in keV'),\n",
    "         cc=widgets.FloatSlider(min=0,max=3,step=0.1,value=1.1,description='Cc in mm'),\n",
    "         Espread=widgets.FloatSlider(min=0,max=8,step=0.1,value=2.0,description='Energy spread in eV'))  ; \n"
   ]
  },
  {
   "cell_type": "code",
   "execution_count": 12,
   "metadata": {
    "scrolled": true
   },
   "outputs": [
    {
     "data": {
      "application/vnd.jupyter.widget-view+json": {
       "model_id": "5fc28855e18446daa5e3cd83b307172e",
       "version_major": 2,
       "version_minor": 0
      },
      "text/plain": [
       "interactive(children=(IntSlider(value=-67, description='Defocus in nm', max=150, min=-200), IntSlider(value=12…"
      ]
     },
     "metadata": {},
     "output_type": "display_data"
    }
   ],
   "source": [
    "# Interactive plot of the PCTF squared\n",
    "def pctfsqplot(deltaf,cs, Energy,cc,Espread):\n",
    "    lam=lamb(Energy)\n",
    "    u = np.linspace(0,10,2000)\n",
    "    te=temporal_envelope(Energy,10**9*u,cc*10**(-3),Espread)\n",
    "    plt.plot(u,te*pctfsq(10**9*u,deltaf*10**(-9),cs*10**(-6),lam))\n",
    "#    plt.axhline(0)\n",
    "    plt.grid(True)\n",
    "    plt.plot(u,te)\n",
    "    plt.show()\n",
    "\n",
    "interact(pctfsqplot, deltaf=widgets.IntSlider(min=-200,max=150,step=1,value=-67,description='Defocus in nm'),\n",
    "         cs=widgets.IntSlider(min=-100,max=1500,step=5,value=1200,description='Cs in microns'),\n",
    "         Energy=widgets.IntSlider(min=20,max=300,step=10,value=200,description='Energy in keV'),\n",
    "         cc=widgets.FloatSlider(min=0,max=3,step=0.1,value=1.1,description='Cc in mm'),\n",
    "         Espread=widgets.FloatSlider(min=0,max=8,step=0.1,value=2.0,description='Energy spread in eV'))  ; "
   ]
  },
  {
   "cell_type": "code",
   "execution_count": 13,
   "metadata": {},
   "outputs": [
    {
     "data": {
      "application/vnd.jupyter.widget-view+json": {
       "model_id": "49424f41427044a5aa158b1c85f3a040",
       "version_major": 2,
       "version_minor": 0
      },
      "text/plain": [
       "interactive(children=(IntSlider(value=-67, description='Defocus in nm', min=-100), IntSlider(value=1200, descr…"
      ]
     },
     "metadata": {},
     "output_type": "display_data"
    }
   ],
   "source": [
    "def pctfplot2d(deltaf,cs,astig, Energy,cc,Espread):\n",
    "    ux = np.linspace(-10, 10, 301)\n",
    "    uy = np.linspace(-10, 10, 301)\n",
    "    X, Y = np.meshgrid(ux, uy)\n",
    "    Z = np.sqrt(X**2 + Y**2)\n",
    "    lam=lamb(Energy)\n",
    "    te=temporal_envelope(Energy,10**9*Z,cc*10**(-3),Espread)\n",
    "    ZZ=te*pctf2d(X*10**9,Y*10**9,deltaf*10**(-9),astig*10**(-9),cs*10**(-6),lam)\n",
    "    plt.figure()\n",
    "    cp = plt.contourf(X, Y, ZZ)\n",
    "    plt.colorbar(cp)\n",
    "    plt.axes().set_aspect('equal')\n",
    "    plt.xlabel('ux (1/nm)')\n",
    "    plt.ylabel('uy (1/nm)')\n",
    "    plt.set_cmap('coolwarm') \n",
    "# plt.set_cmap('gray')\n",
    "    plt.show()\n",
    "    \n",
    "#pctfplot2d(-60,1000,200) \n",
    "interact_manual(pctfplot2d, deltaf=widgets.IntSlider(min=-100,max=100,step=1,value=-67,description='Defocus in nm'),\n",
    "         cs=widgets.IntSlider(min=-100,max=1500,step=5,value=1200,description='Cs in microns'),\n",
    "         Energy=widgets.IntSlider(min=20,max=300,step=10,value=200,description='Energy in keV'),\n",
    "         astig=widgets.IntSlider(min=-300,max=300,step=10,value=0,description='astigmatism in nm'),       \n",
    "         cc=widgets.FloatSlider(min=0,max=3,step=0.1,value=1.1,description='Cc in mm'),\n",
    "         Espread=widgets.FloatSlider(min=0,max=8,step=0.1,value=2.0,description='Energy spread in eV')\n",
    "         );\n",
    "#defocus in nm; Cs in microns and beam energy in keV"
   ]
  },
  {
   "cell_type": "code",
   "execution_count": null,
   "metadata": {},
   "outputs": [],
   "source": []
  }
 ],
 "metadata": {
  "interpreter": {
   "hash": "71efbd933ad5910e62f07d2fc6e906efaa8b5c77c2c7a6e2422a134982b54b95"
  },
  "kernelspec": {
   "display_name": "Python 3.9.0 64-bit",
   "language": "python",
   "name": "python3"
  },
  "language_info": {
   "codemirror_mode": {
    "name": "ipython",
    "version": 3
   },
   "file_extension": ".py",
   "mimetype": "text/x-python",
   "name": "python",
   "nbconvert_exporter": "python",
   "pygments_lexer": "ipython3",
   "version": "3.9.0"
  }
 },
 "nbformat": 4,
 "nbformat_minor": 2
}
